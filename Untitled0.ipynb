{
 "metadata": {
  "name": "",
  "signature": "sha256:f6658acfbed9d6734dd687b218e0e0d42c74c1f444197ecc763b2240617efa2a"
 },
 "nbformat": 3,
 "nbformat_minor": 0,
 "worksheets": []
}