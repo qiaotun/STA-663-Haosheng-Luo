{
 "metadata": {
  "name": "",
  "signature": "sha256:bef6edc051b9910608742fdba1343b42c584abd080cddc6ce05ac3bde75479a2"
 },
 "nbformat": 3,
 "nbformat_minor": 0,
 "worksheets": [
  {
   "cells": [
    {
     "cell_type": "code",
     "collapsed": false,
     "input": [
      "from IPython.display import Image"
     ],
     "language": "python",
     "metadata": {},
     "outputs": [],
     "prompt_number": 83
    },
    {
     "cell_type": "markdown",
     "metadata": {},
     "source": [
      "Computer lab\n",
      "----\n",
      "\n",
      "These exercises are designed to give you some practice coding in Python and proivde familiarity with the language syntax."
     ]
    },
    {
     "cell_type": "markdown",
     "metadata": {},
     "source": [
      "**Exercise 1 [10 pts]**. Write code to solve the [Project Euler puzzle 1](https://projecteuler.net/problems)"
     ]
    },
    {
     "cell_type": "code",
     "collapsed": false,
     "input": [
      "# Your code here\n",
      "\n",
      "s = 0\n",
      "for i in range(1,1000):\n",
      "    if (i % 3 == 0 or i % 5 == 0):\n",
      "        s += i\n",
      "print(s)\n"
     ],
     "language": "python",
     "metadata": {},
     "outputs": [
      {
       "output_type": "stream",
       "stream": "stdout",
       "text": [
        "233168\n"
       ]
      }
     ],
     "prompt_number": 84
    },
    {
     "cell_type": "markdown",
     "metadata": {},
     "source": [
      "**Exericse 2 [10 pts]**. Wikipedia gives the sample correlation coefficient formula as shown below. Write functions to calculate the sample mean, the sample standard deviation and the sample correlation coefficient. Calculate the sample correlation coefficent for the following lists of numbers:\n",
      "\n",
      "```python\n",
      "x = [10.0, 8.0, 13.0, 9.0, 11.0, 14.0, 6.0, 4.0, 12.0, 7.0, 5.0]\n",
      "y = [8.04, 6.95, 7.58, 8.81, 8.33, 9.96, 7.24, 4.26, 10.84, 4.82, 5.68]\n",
      "```\n",
      "\n",
      "Do NOT use `numpy`  functions - the idea is to code the functions yourself! The square root of $x$ can be calculated as ```x**0.5```."
     ]
    },
    {
     "cell_type": "code",
     "collapsed": false,
     "input": [
      "Image(url=\"http://upload.wikimedia.org/math/0/4/e/04e3ee493ddb1f01e03d8bf024fbd0a5.png\")"
     ],
     "language": "python",
     "metadata": {},
     "outputs": [
      {
       "html": [
        "<img src=\"http://upload.wikimedia.org/math/0/4/e/04e3ee493ddb1f01e03d8bf024fbd0a5.png\"/>"
       ],
       "metadata": {},
       "output_type": "pyout",
       "prompt_number": 89,
       "text": [
        "<IPython.core.display.Image at 0x7fd049dc56d0>"
       ]
      }
     ],
     "prompt_number": 89
    },
    {
     "cell_type": "code",
     "collapsed": false,
     "input": [
      "Image(url=\"http://upload.wikimedia.org/math/7/0/d/70df5220933ae8298cd5ef1c719360bf.png\")"
     ],
     "language": "python",
     "metadata": {},
     "outputs": [
      {
       "html": [
        "<img src=\"http://upload.wikimedia.org/math/7/0/d/70df5220933ae8298cd5ef1c719360bf.png\"/>"
       ],
       "metadata": {},
       "output_type": "pyout",
       "prompt_number": 86,
       "text": [
        "<IPython.core.display.Image at 0x7fd049dc5350>"
       ]
      }
     ],
     "prompt_number": 86
    },
    {
     "cell_type": "code",
     "collapsed": false,
     "input": [
      "# Your code here\n",
      "\n",
      "x = [10.0, 8.0, 13.0, 9.0, 11.0, 14.0, 6.0, 4.0, 12.0, 7.0, 5.0]\n",
      "y = [8.04, 6.95, 7.58, 8.81, 8.33, 9.96, 7.24, 4.26, 10.84, 4.82, 5.68]\n",
      "\n",
      "def sam_mean(x):\n",
      "    summ = 0.0\n",
      "    for s in x:\n",
      "        summ += s\n",
      "    mean = summ / len(x)\n",
      "    return(mean)\n",
      "\n",
      "def sam_std(x):\n",
      "    d = 0.0\n",
      "    for s in x:\n",
      "        d += (s - sam_mean(x))**2\n",
      "    d = (d/(len(x)-1))**0.5\n",
      "    return(d)\n",
      "\n",
      "def sam_cor(x,y):\n",
      "    if(len(x) == len(y)):\n",
      "        mean_x = ones(len(x))*sam_mean(x)\n",
      "        std_x = ones(len(x))*sam_std(x)\n",
      "        mean_y = ones(len(y))*sam_mean(y)\n",
      "        std_y = ones(len(y))*sam_std(y)\n",
      "        R = [(a-b)/c*(d-e)/f for a,b,c,d,e,f in zip(x,mean_x,std_x,y,mean_y,std_y)]\n",
      "        return(sum(R)/(len(x)-1))\n",
      "    else:\n",
      "        print(\"Two arrays have different length.\")\n",
      "        \n",
      "sam_cor(x,y)\n",
      "\n",
      "\n"
     ],
     "language": "python",
     "metadata": {},
     "outputs": [
      {
       "metadata": {},
       "output_type": "pyout",
       "prompt_number": 87,
       "text": [
        "0.81642051634483992"
       ]
      }
     ],
     "prompt_number": 87
    },
    {
     "cell_type": "markdown",
     "metadata": {},
     "source": [
      "**Exercise 3** [10 pts]. Write a function to calculate hailstone numbers.\n",
      "\n",
      "Start with any positive integer (an initial seed) and obtain a sequence of numbers by following these rules.\n",
      "\n",
      "1. Base case: If the number is 1, stop.\n",
      "2. Recursive case: If the current number is even, divide it by two; else if it is odd, multiply it by three and add one. \n",
      "\n",
      "The seqeunce of numbers obtained are known as *hailstone numbers* - although it is not proven that all sequences will eventually terminate with 1 (Collatz conjecture), no counter-example has yet been found. \n",
      "\n",
      "For example, starting with 7, we get the sequence 7, 22, 11, 34, 17, 52, 26, 13, 40, 20, 10, 5, 16, 8, 4, 2, 1.\n",
      "\n",
      "A recursive function to find the sequence of hailstone numbers is given below. Write a *non-recursive* version of the function that gives the same result. Using your function, what is the length of the sequeence obtained when we start with 23?\n",
      "\n",
      "```python\n",
      "def hailstone(n, acc=None):\n",
      "    \"\"\"Given a positive integer n, return the series of hailstone numbers.\"\"\"\n",
      "    if acc is None:\n",
      "        acc = []\n",
      "    acc.append(n)\n",
      "    if n == 1:\n",
      "        return acc\n",
      "    else:\n",
      "        if n%2 == 0:\n",
      "            return hailstone(n/2, acc)\n",
      "        else:\n",
      "            return hailstone(n*3 + 1, acc)\n",
      "```"
     ]
    },
    {
     "cell_type": "code",
     "collapsed": false,
     "input": [
      "# Your code here\n",
      "\n",
      "def hailstone1(n):\n",
      "     \"\"\"Given a positive integer n, return the series of hailstone numbers in non-recursive version.\"\"\"\n",
      "     acc = []\n",
      "     acc.append(n)\n",
      "     while n != 1:\n",
      "         if n%2 == 0:\n",
      "             n = n/2\n",
      "             acc.append(n)\n",
      "         else:\n",
      "             n = n*3 + 1\n",
      "             acc.append(n)\n",
      "     return acc\n",
      "    \n",
      "print(hailstone1(23))\n",
      "print'The length of the sequeence obtained when we start with 23 is',len(hailstone1(23))"
     ],
     "language": "python",
     "metadata": {},
     "outputs": [
      {
       "output_type": "stream",
       "stream": "stdout",
       "text": [
        "[23, 70, 35, 106, 53, 160, 80, 40, 20, 10, 5, 16, 8, 4, 2, 1]\n",
        "The length of the sequeence obtained when we start with 23 is 16\n"
       ]
      }
     ],
     "prompt_number": 233
    },
    {
     "cell_type": "markdown",
     "metadata": {},
     "source": [
      "**Exercise 4 [20 pts]**. A Caesar cipher replaces each in a string with the letter $k$ modulo 26 positions down. For example, with $k=3$, 'a' would become 'd', 'b' would become 'e' and so on. The Caesar cipher is very easy to crack, since the relative letter frequencies are preserved - that is, 'e' is the most commonly used English letter, so the most frequent letter in the cipher is likely to be the code for 'e'. We can download a large corpus of English text (e.g. a few books from Project Gutenberg), and estimate the individual letter frequencies. Using for example, a multinomial model where each letter is one of 26 possibiilites with frequencies given by the the previous estimates, and assuming that each letter is independent, we can simply go through all 26 possible values of $k$ and choose the model with the highest likelihood. Or just use $\\chi^2$ statistic to compare observed and expected frequencies.\n",
      "\n",
      "Here is an extended exercise to write a Caesar encoder and code to crack the cipher. \n",
      "\n",
      "**Writing the encoder/decoder**:\n",
      "  - Convert a sentence to lowercase\n",
      "  - Write a function let2int to convert a lowercase letter to a number from $0$ to $25$\n",
      "    - Hint: look up ord() function\n",
      "  - Write the reverse function int2let to convert a number to a lowercase letter\n",
      "    - Hint: look up chr() function\n",
      "  - Write a functiton to encode a sentence with shift $k\n",
      "  - Hint: Use list comprehension with [ternary operator](https://docs.python.org/3.3/faq/programming.html#is-there-an-equivalent-of-c-s-ternary-operator) to check for a lowercase letter\n",
      "   - Write a function to decode a sentence with shift $k$\n",
      "   - Hint: Use the encode function\n",
      "    - Confirm that sentence = decode(encode(sentence))\n",
      "\n",
      "**More hints for encoding/decoding**:\n",
      "\n",
      "There are two slightly tricky aspects to encoding/decoding. First is that we want to convert any character into an integer in $[0, 26)$. Because letters are ordered ('b' comes after 'a'), this can be done by subtracting `ord('a')` for the lowercase letters. After adding $k$, we need to take the number modulo $26$ since the Caesar cipher \"wraps around\". Second is that this will only work for lowercase letters - so we need to pass along any characters that are not in 'a-z' unchanged.\n",
      "    \n",
      "**Writing the cracker**:\n",
      "  - Write a function to download a book from Project Gutenberg\n",
      "    - Hint: use\n",
      "    ```python\n",
      "    text = urllib2.urlopen('http://www.gutenberg.org/ebooks/1342.txt.utf-8').read()\n",
      "    ```\n",
      "  - Write a fucntion to estimate letter frequencies in text\n",
      "    - Hint: recall various ways to count letters in a string from Lecture 1\n",
      "  - Write a function to calculate the $\\chi^2$ statistic given observed and expected frequencies\n",
      "    - Hint: $\\chi^2 = \\sum_{i=1}{k} \\frac{(\\text{Observed} - \\text{Expected})^2}{\\text{Expected}}$\n",
      "  - Write a cracker to decode encrypted text by choosing the shift $k$ with the smallest $\\chi^2$ score\n",
      "    - Hint: xs.index(min(xs)) gives location of minimum value in the list xs."
     ]
    },
    {
     "cell_type": "code",
     "collapsed": false,
     "input": [
      "# Your code here\n",
      "\n",
      "Sentence = \"Today is a good day.\"\n",
      "Sentence = Sentence.lower()\n",
      "\n",
      "def let2int(x):\n",
      "    acc = ord(x) - ord('a')\n",
      "    return acc\n",
      "\n",
      "def int2let(x):\n",
      "    string = chr(x + ord('a'))\n",
      "    return string\n",
      "\n",
      "def encode(x,k):\n",
      "    islowercase = [0 if i.islower() else 1 for i in x]\n",
      "    encode = \"\"\n",
      "    for j, i in enumerate(islowercase):\n",
      "        if i == 0:\n",
      "            num = let2int(x[j]) + k\n",
      "            if num > 25:\n",
      "                num = num % 26\n",
      "            encode += int2let(num)\n",
      "        else:\n",
      "            encode += x[j]\n",
      "    return encode \n",
      "\n",
      "def decode(x,k):\n",
      "    decode = encode(x, 26-k)\n",
      "    return decode"
     ],
     "language": "python",
     "metadata": {},
     "outputs": [],
     "prompt_number": 53
    },
    {
     "cell_type": "code",
     "collapsed": false,
     "input": [
      "def download_text():\n",
      "    \"\"\"Download Pride and Prejudice by Jane Austen\"\"\"\n",
      "    import os   \n",
      "    if not os.path.exists('JA.txt'):\n",
      "        ! wget http://www.gutenberg.org/ebooks/1342.txt.utf-8 -O JA.txt\n",
      "    words = open('JA.txt', 'r').read().replace('\\xef','').replace('\\xbb','').replace('\\xbf','').replace('\\r','').replace('\\n','')\n",
      "    return words"
     ],
     "language": "python",
     "metadata": {},
     "outputs": [],
     "prompt_number": 54
    },
    {
     "cell_type": "code",
     "collapsed": false,
     "input": [
      "def freq_letters(word):\n",
      "    import string\n",
      "    import re\n",
      "    from collections import Counter\n",
      "    word = word.lower()\n",
      "    word = \"\".join(re.findall(\"[a-z]+\", word))\n",
      "    count = Counter()\n",
      "    for letters in word:\n",
      "        count[letters] += 1\n",
      "    return count\n",
      "\n",
      "def chi_sq(text):\n",
      "    Observed = freq_letters(text)\n",
      "    Expected = freq_letters(download_text())\n",
      "    Num_Letters = float(sum(Expected.values()))\n",
      "    Chi_sq = 0\n",
      "    for x in Observed:\n",
      "        Chi_sq += (Observed[x] - Expected[x] / Num_Letters * len(text)) ** 2 / (Expected[x] / Num_Letters * len(text))\n",
      "    return Chi_sq\n",
      "\n",
      "def cracker(text):\n",
      "     K=[]\n",
      "     for i in range(0,26):\n",
      "         K.append(chi_sq(decode(text,i)))\n",
      "         min_val = K.index(min(K)) + 1\n",
      "         decoded = decode(text,min_val)\n",
      "     return [decoded,min_val]\n",
      "\n",
      "\n",
      "print'The encoded sentence is',Sentence\n",
      "print'The decoded sentence is',cracker(Sentence)[0]\n",
      "print'The shift k is',cracker(Sentence)[1]"
     ],
     "language": "python",
     "metadata": {},
     "outputs": [
      {
       "output_type": "stream",
       "stream": "stdout",
       "text": [
        "The encoded sentence is today is a good day.\n",
        "The decoded sentence is "
       ]
      },
      {
       "output_type": "stream",
       "stream": "stdout",
       "text": [
        "snczx hr z fnnc czx.\n",
        "The shift k is "
       ]
      },
      {
       "output_type": "stream",
       "stream": "stdout",
       "text": [
        "1\n"
       ]
      }
     ],
     "prompt_number": 56
    },
    {
     "cell_type": "code",
     "collapsed": false,
     "input": [],
     "language": "python",
     "metadata": {},
     "outputs": []
    }
   ],
   "metadata": {}
  }
 ]
}